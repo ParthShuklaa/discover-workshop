{
 "cells": [
  {
   "cell_type": "code",
   "execution_count": 21,
   "metadata": {},
   "outputs": [],
   "source": [
    "import py_utils\n",
    "import os"
   ]
  },
  {
   "cell_type": "markdown",
   "metadata": {},
   "source": [
    "## Identify a python file to tokenize"
   ]
  },
  {
   "cell_type": "code",
   "execution_count": 27,
   "metadata": {},
   "outputs": [],
   "source": [
    "discover_dir = '/home/bhanu/Documents/projects/personal/learning/discover-container/discover'\n",
    "discover_nlp_path = os.path.join(discover_dir, 'scrape.py')"
   ]
  },
  {
   "cell_type": "markdown",
   "metadata": {},
   "source": [
    "## Load the file in a variable"
   ]
  },
  {
   "cell_type": "code",
   "execution_count": 28,
   "metadata": {},
   "outputs": [],
   "source": [
    "discover_mod = py_utils.load_module(discover_nlp_path)"
   ]
  },
  {
   "cell_type": "markdown",
   "metadata": {},
   "source": [
    "## List all functions in the file"
   ]
  },
  {
   "cell_type": "code",
   "execution_count": 29,
   "metadata": {},
   "outputs": [
    {
     "data": {
      "text/plain": [
       "[<function module.name._func_calls(fn)>,\n",
       " <function module.name._method_calls(fn)>,\n",
       " <function module.name.annotate(func)>,\n",
       " <function module.name.camel_case_split(identifier)>,\n",
       " <function module.name.find_functions(module)>,\n",
       " <function module.name.find_modules(x)>,\n",
       " <function module.name.index_python_files(py_module)>,\n",
       " <function module.name.load_module(path)>,\n",
       " <function module.name.process_docstring(doc_string)>,\n",
       " <function module.name.process_funcs(functions)>,\n",
       " <function module.name.process_methods(methods)>,\n",
       " <function module.name.process_name(func_name)>,\n",
       " <function module.name.snake_case_split(identifier)>,\n",
       " <function module.name.tokenize(annotation)>]"
      ]
     },
     "execution_count": 29,
     "metadata": {},
     "output_type": "execute_result"
    }
   ],
   "source": [
    "[c for c in scrape.find_functions(discover_mod)]"
   ]
  },
  {
   "cell_type": "markdown",
   "metadata": {},
   "source": [
    "## Determine function properties\n",
    "\n",
    "Identify these for each function\n",
    "\n",
    "- name\n",
    "- docstring\n",
    "- function calls\n",
    "- method calls\n"
   ]
  },
  {
   "cell_type": "code",
   "execution_count": 30,
   "metadata": {},
   "outputs": [
    {
     "name": "stdout",
     "output_type": "stream",
     "text": [
      "fn _func_calls\n",
      "\t doc\n",
      "\t ******************************\n",
      "\t Determine function calls within a function\n",
      "\n",
      "    Args:\n",
      "        fn (module): python module\n",
      "\n",
      "    Returns:\n",
      "        funcs (list): list of function calls within a function\n",
      "    \n",
      "\n",
      "\n",
      "\t name\n",
      "\t ******************************\n",
      "\t _func_calls\n",
      "\n",
      "\n",
      "\t functions\n",
      "\t ******************************\n",
      "\t ['dis', 'Bytecode', 'append']\n",
      "\n",
      "\n",
      "\t methods\n",
      "\t ******************************\n",
      "\t ['Bytecode', 'opname', 'append', 'argval']\n",
      "\n",
      "\n",
      "fn _method_calls\n",
      "\t doc\n",
      "\t ******************************\n",
      "\t Determine method calls within a function\n",
      "\n",
      "    Args:\n",
      "        fn (module): python module\n",
      "\n",
      "    Returns:\n",
      "        (list): list of method calls within a function\n",
      "    \n",
      "\n",
      "\n",
      "\t name\n",
      "\t ******************************\n",
      "\t _method_calls\n",
      "\n",
      "\n",
      "\t functions\n",
      "\t ******************************\n",
      "\t ['re', 'findall', 'METHOD', 'getsource']\n",
      "\n",
      "\n",
      "\t methods\n",
      "\t ******************************\n",
      "\t ['findall']\n",
      "\n",
      "\n",
      "fn annotate\n",
      "\t doc\n",
      "\t ******************************\n",
      "\t Annotate a function with doc string, functions, methods and name\n",
      "\n",
      "    Args:\n",
      "        func (module): python module\n",
      "\n",
      "    Returns:\n",
      "        d (dict): [description]\n",
      "    \n",
      "\n",
      "\n",
      "\t name\n",
      "\t ******************************\n",
      "\t annotate\n",
      "\n",
      "\n",
      "\t functions\n",
      "\t ******************************\n",
      "\t ['type', '_func_calls', 'type', '_method_calls']\n",
      "\n",
      "\n",
      "\t methods\n",
      "\t ******************************\n",
      "\t ['__doc__', '__doc__', '__name__', '__class__', '__class__']\n",
      "\n",
      "\n",
      "fn camel_case_split\n",
      "\t doc\n",
      "\t ******************************\n",
      "\t Split camelCase function names to tokens.\n",
      "\n",
      "    Args:\n",
      "        identifier (str): Identifier to split\n",
      "\n",
      "    Returns:\n",
      "        (list): lower case split tokens. ex: ['camel', 'case']\n",
      "    \n",
      "\n",
      "\n",
      "\t name\n",
      "\t ******************************\n",
      "\t camel_case_split\n",
      "\n",
      "\n",
      "\t functions\n",
      "\t ******************************\n",
      "\t ['re', 'finditer']\n",
      "\n",
      "\n",
      "\t methods\n",
      "\t ******************************\n",
      "\t ['finditer', 'group']\n",
      "\n",
      "\n",
      "fn find_functions\n",
      "\t doc\n",
      "\t ******************************\n",
      "\t Determine method calls within a function\n",
      "\n",
      "    Args:\n",
      "        module (module): python module\n",
      "\n",
      "    Returns:\n",
      "        attr (list): list of method calls within a function\n",
      "    \n",
      "\n",
      "\n",
      "\t name\n",
      "\t ******************************\n",
      "\t find_functions\n",
      "\n",
      "\n",
      "\t functions\n",
      "\t ******************************\n",
      "\t ['dir', 'getattr', 'callable', 'getattr', 'getattr']\n",
      "\n",
      "\n",
      "\t methods\n",
      "\t ******************************\n",
      "\t ['__name__']\n",
      "\n",
      "\n",
      "fn find_modules\n",
      "\t doc\n",
      "\t ******************************\n",
      "\t Get all python files given a path\n",
      "\n",
      "    Args:\n",
      "        x (string): file path\n",
      "\n",
      "    Returns:\n",
      "        (list): recursive list of python files including sub-directories\n",
      "    \n",
      "\n",
      "\n",
      "\t name\n",
      "\t ******************************\n",
      "\t find_modules\n",
      "\n",
      "\n",
      "\t functions\n",
      "\t ******************************\n",
      "\t ['Path', 'rglob']\n",
      "\n",
      "\n",
      "\t methods\n",
      "\t ******************************\n",
      "\t ['rglob', 'py']\n",
      "\n",
      "\n",
      "fn index_python_files\n",
      "\t doc\n",
      "\t ******************************\n",
      "\t \n",
      "    Args:\n",
      "        py_module (module): python module\n",
      "\n",
      "    Returns:\n",
      "        no return value\n",
      "    \n",
      "\n",
      "\n",
      "\t name\n",
      "\t ******************************\n",
      "\t index_python_files\n",
      "\n",
      "\n",
      "\t functions\n",
      "\t ******************************\n",
      "\t ['find_functions', 'annotate', 'append', 'join', 'tokenize', 'TfidfVectorizer', 'fit_transform', 'save_npz', 'dump']\n",
      "\n",
      "\n",
      "\t methods\n",
      "\t ******************************\n",
      "\t ['append', 'join', 'fit_transform', 'npz', 'pkl']\n",
      "\n",
      "\n",
      "fn load_module\n",
      "\t doc\n",
      "\t ******************************\n",
      "\t For a given path fetch the python module\n",
      "\n",
      "    Args:\n",
      "        path (string): file path\n",
      "\n",
      "    Returns:\n",
      "       module (module): python module including the path\n",
      "    \n",
      "\n",
      "\n",
      "\t name\n",
      "\t ******************************\n",
      "\t load_module\n",
      "\n",
      "\n",
      "\t functions\n",
      "\t ******************************\n",
      "\t ['spec_from_file_location', 'module_from_spec', 'exec_module', 'Exception', 'warn']\n",
      "\n",
      "\n",
      "\t methods\n",
      "\t ******************************\n",
      "\t ['name', 'loader', 'exec_module', 'loader', 'get_code', 'name']\n",
      "\n",
      "\n",
      "fn process_docstring\n",
      "\t doc\n",
      "\t ******************************\n",
      "\t Process docstring\n",
      "\n",
      "    Args:\n",
      "        doc_string (str): docstring for a function\n",
      "\n",
      "    Returns:\n",
      "        (list): list of tokens\n",
      "    \n",
      "\n",
      "\n",
      "\t name\n",
      "\t ******************************\n",
      "\t process_docstring\n",
      "\n",
      "\n",
      "\t functions\n",
      "\t ******************************\n",
      "\t ['re', 'findall', 'camel_case_split', 'extend']\n",
      "\n",
      "\n",
      "\t methods\n",
      "\t ******************************\n",
      "\t ['findall', 'extend']\n",
      "\n",
      "\n",
      "fn process_funcs\n",
      "\t doc\n",
      "\t ******************************\n",
      "\t Process functions\n",
      "\n",
      "    Args:\n",
      "        functions (list): list of function names\n",
      "\n",
      "    Returns:\n",
      "        (list): list of tokens\n",
      "    \n",
      "\n",
      "\n",
      "\t name\n",
      "\t ******************************\n",
      "\t process_funcs\n",
      "\n",
      "\n",
      "\t functions\n",
      "\t ******************************\n",
      "\t ['extend', 'process_name']\n",
      "\n",
      "\n",
      "\t methods\n",
      "\t ******************************\n",
      "\t ['extend', 'extend']\n",
      "\n",
      "\n",
      "fn process_methods\n",
      "\t doc\n",
      "\t ******************************\n",
      "\t Process methods\n",
      "\n",
      "    Args:\n",
      "        methods (list): list of method names\n",
      "\n",
      "    Returns:\n",
      "        (list): list of tokens\n",
      "    \n",
      "\n",
      "\n",
      "\t name\n",
      "\t ******************************\n",
      "\t process_methods\n",
      "\n",
      "\n",
      "\t functions\n",
      "\t ******************************\n",
      "\t ['camel_case_split', 'extend']\n",
      "\n",
      "\n",
      "\t methods\n",
      "\t ******************************\n",
      "\t ['extend']\n",
      "\n",
      "\n",
      "fn process_name\n",
      "\t doc\n",
      "\t ******************************\n",
      "\t Process func_name\n",
      "\n",
      "    Args:\n",
      "        func_name (str): function name\n",
      "\n",
      "    Returns:\n",
      "        (list): list of tokens\n",
      "    \n",
      "\n",
      "\n",
      "\t name\n",
      "\t ******************************\n",
      "\t process_name\n",
      "\n",
      "\n",
      "\t functions\n",
      "\t ******************************\n",
      "\t ['camel_case_split']\n",
      "\n",
      "\n",
      "\t methods\n",
      "\t ******************************\n",
      "\n",
      "\n",
      "fn snake_case_split\n",
      "\t doc\n",
      "\t ******************************\n",
      "\t Split snake_case funtion names to tokens.\n",
      "\n",
      "    Args:\n",
      "        identifier (str): Identifier to split\n",
      "\n",
      "    Returns:\n",
      "        (list): lower case split tokens. ex: ['snake', 'case']\n",
      "    \n",
      "\n",
      "\n",
      "\t name\n",
      "\t ******************************\n",
      "\t snake_case_split\n",
      "\n",
      "\n",
      "\t functions\n",
      "\t ******************************\n",
      "\t ['split']\n",
      "\n",
      "\n",
      "\t methods\n",
      "\t ******************************\n",
      "\t ['lower', 'split']\n",
      "\n",
      "\n",
      "fn tokenize\n",
      "\t doc\n",
      "\t ******************************\n",
      "\t Series of tokenization steps.\n",
      "\n",
      "    Args:\n",
      "        annotation (dict): dictionary of function name, docstring,\n",
      "        internal method and function calls.\n",
      "\n",
      "    Returns:\n",
      "        tokens (list): list of tokens for a given annotation\n",
      "    \n",
      "\n",
      "\n",
      "\t name\n",
      "\t ******************************\n",
      "\t tokenize\n",
      "\n",
      "\n",
      "\t functions\n",
      "\t ******************************\n",
      "\t ['extend', 'process_docstring', 'extend', 'process_name', 'extend', 'process_funcs', 'extend', 'process_methods']\n",
      "\n",
      "\n",
      "\t methods\n",
      "\t ******************************\n",
      "\t ['extend', 'extend', 'extend', 'extend']\n",
      "\n",
      "\n"
     ]
    }
   ],
   "source": [
    "for fn in py_utils.find_functions(discover_mod):\n",
    "    print(\"fn\", fn.__name__)\n",
    "    for k, v in py_utils.annotate(fn).items():\n",
    "        print(\"\\t\", k)\n",
    "        print(\"\\t\", \"*\" * 30)\n",
    "        if v:\n",
    "            print(\"\\t\", v)\n",
    "        print(\"\\n\")"
   ]
  },
  {
   "cell_type": "code",
   "execution_count": 31,
   "metadata": {},
   "outputs": [
    {
     "name": "stdout",
     "output_type": "stream",
     "text": [
      "<function _func_calls at 0x7f8fdce39290>\n",
      "\t Bytecode\n",
      "\t opname\n",
      "\t append\n",
      "\t argval\n",
      "********************\n",
      "<function _method_calls at 0x7f8fdce39320>\n",
      "\t findall\n",
      "********************\n",
      "<function annotate at 0x7f8fdce39200>\n",
      "\t __doc__\n",
      "\t __doc__\n",
      "\t __name__\n",
      "\t __class__\n",
      "\t __class__\n",
      "********************\n",
      "<function camel_case_split at 0x7f901c0fd4d0>\n",
      "\t finditer\n",
      "\t group\n",
      "********************\n",
      "<function find_functions at 0x7f8fdce393b0>\n",
      "\t __name__\n",
      "********************\n",
      "<function find_modules at 0x7f8fdce39440>\n",
      "\t rglob\n",
      "\t py\n",
      "********************\n",
      "<function index_python_files at 0x7f8fdce39560>\n",
      "\t append\n",
      "\t join\n",
      "\t fit_transform\n",
      "\t npz\n",
      "\t pkl\n",
      "********************\n",
      "<function load_module at 0x7f8fdce394d0>\n",
      "\t name\n",
      "\t loader\n",
      "\t exec_module\n",
      "\t loader\n",
      "\t get_code\n",
      "\t name\n",
      "********************\n",
      "<function process_docstring at 0x7f8fdce36ef0>\n",
      "\t findall\n",
      "\t extend\n",
      "********************\n",
      "<function process_funcs at 0x7f8fdce39050>\n",
      "\t extend\n",
      "\t extend\n",
      "********************\n",
      "<function process_methods at 0x7f8fdce390e0>\n",
      "\t extend\n",
      "********************\n",
      "<function process_name at 0x7f8fdce36f80>\n",
      "********************\n",
      "<function snake_case_split at 0x7f8fdce36e60>\n",
      "\t lower\n",
      "\t split\n",
      "********************\n",
      "<function tokenize at 0x7f8fdce39170>\n",
      "\t extend\n",
      "\t extend\n",
      "\t extend\n",
      "\t extend\n",
      "********************\n"
     ]
    }
   ],
   "source": [
    "for fn in py_utils.find_functions(discover_mod):\n",
    "    print(fn)\n",
    "    for mc in py_utils._method_calls(fn):\n",
    "        print(\"\\t\", mc)\n",
    "    print(\"*\" * 20)"
   ]
  },
  {
   "cell_type": "markdown",
   "metadata": {},
   "source": [
    "## Prepare document array\n",
    "\n",
    "Append all tokens in a list. Each list item belongs to a function."
   ]
  },
  {
   "cell_type": "code",
   "execution_count": 25,
   "metadata": {},
   "outputs": [
    {
     "data": {
      "text/plain": [
       "['determine function calls within a function args fn module python module returns funcs list list of function calls within a function  func calls dis bytecode append bytecode opname append argval',\n",
       " 'determine method calls within a function args fn module python module returns list list of method calls within a function  method calls re findall method getsource findall',\n",
       " 'annotate a function with doc string functions methods and name args func module python module returns d dict description annotate type  func calls type  method calls   doc     doc     name     class     class  ',\n",
       " 'split camel case function names to tokens args identifier str identifier to split returns list lower case split tokens ex camel case camel case split re finditer finditer group',\n",
       " 'determine method calls within a function args module module python module returns attr list list of method calls within a function find functions dir getattr callable getattr getattr   name  ',\n",
       " 'get all python files given a path args x string file path returns list recursive list of python files including sub directories find modules path rglob rglob py',\n",
       " 'args py module module python module returns no return value index python files find functions annotate append join tokenize tfidf vectorizer fit transform save npz dump append join fit transform npz pkl',\n",
       " 'for a given path fetch the python module args path string file path returns module module python module including the path load module spec from file location module from spec exec module exception warn name loader exec module loader get code name',\n",
       " 'process docstring args doc string str docstring for a function returns list list of tokens process docstring re findall camel case split extend findall extend',\n",
       " 'process functions args functions list list of function names returns list list of tokens process funcs extend process name extend extend',\n",
       " 'process methods args methods list list of method names returns list list of tokens process methods camel case split extend extend',\n",
       " 'process func name args func name str function name returns list list of tokens process name camel case split',\n",
       " 'split snake case funtion names to tokens args identifier str identifier to split returns list lower case split tokens ex snake case snake case split split lower split',\n",
       " 'series of tokenization steps args annotation dict dictionary of function name docstring internal method and function calls returns tokens list list of tokens for a given annotation tokenize extend process docstring extend process name extend process funcs extend process methods extend extend extend extend']"
      ]
     },
     "execution_count": 25,
     "metadata": {},
     "output_type": "execute_result"
    }
   ],
   "source": [
    "documents = []\n",
    "\n",
    "for fn in py_utils.find_functions(discover_mod):\n",
    "    ann = py_utils.annotate(fn)\n",
    "    documents.append(' '.join(py_utils.tokenize(ann)))\n",
    "\n",
    "documents"
   ]
  },
  {
   "cell_type": "code",
   "execution_count": 34,
   "metadata": {},
   "outputs": [],
   "source": [
    "from sklearn.feature_extraction.text import TfidfVectorizer\n",
    "\n",
    "vectorizer = TfidfVectorizer()\n",
    "matrix = vectorizer.fit_transform(documents)\n"
   ]
  },
  {
   "cell_type": "code",
   "execution_count": 35,
   "metadata": {},
   "outputs": [
    {
     "data": {
      "text/plain": [
       "<14x101 sparse matrix of type '<class 'numpy.float64'>'\n",
       "\twith 250 stored elements in Compressed Sparse Row format>"
      ]
     },
     "execution_count": 35,
     "metadata": {},
     "output_type": "execute_result"
    }
   ],
   "source": [
    "matrix"
   ]
  },
  {
   "cell_type": "code",
   "execution_count": 36,
   "metadata": {},
   "outputs": [
    {
     "data": {
      "text/plain": [
       "TfidfVectorizer(analyzer='word', binary=False, decode_error='strict',\n",
       "                dtype=<class 'numpy.float64'>, encoding='utf-8',\n",
       "                input='content', lowercase=True, max_df=1.0, max_features=None,\n",
       "                min_df=1, ngram_range=(1, 1), norm='l2', preprocessor=None,\n",
       "                smooth_idf=True, stop_words=None, strip_accents=None,\n",
       "                sublinear_tf=False, token_pattern='(?u)\\\\b\\\\w\\\\w+\\\\b',\n",
       "                tokenizer=None, use_idf=True, vocabulary=None)"
      ]
     },
     "execution_count": 36,
     "metadata": {},
     "output_type": "execute_result"
    }
   ],
   "source": [
    "vectorizer"
   ]
  },
  {
   "cell_type": "markdown",
   "metadata": {},
   "source": [
    "## Time to test!"
   ]
  },
  {
   "cell_type": "code",
   "execution_count": 37,
   "metadata": {},
   "outputs": [],
   "source": [
    "question = \"lower case\""
   ]
  },
  {
   "cell_type": "code",
   "execution_count": 38,
   "metadata": {},
   "outputs": [],
   "source": [
    "ques_vec = vectorizer.transform([question])"
   ]
  },
  {
   "cell_type": "code",
   "execution_count": 39,
   "metadata": {},
   "outputs": [],
   "source": [
    "from sklearn.metrics.pairwise import cosine_similarity"
   ]
  },
  {
   "cell_type": "code",
   "execution_count": 41,
   "metadata": {},
   "outputs": [
    {
     "data": {
      "text/plain": [
       "array([[0.        , 0.        , 0.        , 0.3827608 , 0.        ,\n",
       "        0.        , 0.        , 0.        , 0.08609757, 0.        ,\n",
       "        0.09685866, 0.10500961, 0.44089331, 0.        ]])"
      ]
     },
     "execution_count": 41,
     "metadata": {},
     "output_type": "execute_result"
    }
   ],
   "source": [
    "cs = cosine_similarity(ques_vec, matrix)\n",
    "cs"
   ]
  },
  {
   "cell_type": "code",
   "execution_count": 43,
   "metadata": {},
   "outputs": [
    {
     "data": {
      "text/plain": [
       "12"
      ]
     },
     "execution_count": 43,
     "metadata": {},
     "output_type": "execute_result"
    }
   ],
   "source": [
    "# this will be the ID of the function in find_functions result\n",
    "cs.ravel().argmax()"
   ]
  },
  {
   "cell_type": "code",
   "execution_count": 50,
   "metadata": {},
   "outputs": [
    {
     "name": "stdout",
     "output_type": "stream",
     "text": [
      "0 <function _func_calls at 0x7f8fdce39290>\n",
      "1 <function _method_calls at 0x7f8fdce39320>\n",
      "2 <function annotate at 0x7f8fdce39200>\n",
      "3 <function camel_case_split at 0x7f901c0fd4d0>\n",
      "4 <function find_functions at 0x7f8fdce393b0>\n",
      "5 <function find_modules at 0x7f8fdce39440>\n",
      "6 <function index_python_files at 0x7f8fdce39560>\n",
      "7 <function load_module at 0x7f8fdce394d0>\n",
      "8 <function process_docstring at 0x7f8fdce36ef0>\n",
      "9 <function process_funcs at 0x7f8fdce39050>\n",
      "10 <function process_methods at 0x7f8fdce390e0>\n",
      "11 <function process_name at 0x7f8fdce36f80>\n",
      "12 <function snake_case_split at 0x7f8fdce36e60>\n",
      "13 <function tokenize at 0x7f8fdce39170>\n"
     ]
    }
   ],
   "source": [
    "funcs = py_utils.find_functions(discover_mod)\n",
    "\n",
    "for idx, fn in enumerate(funcs):\n",
    "    print(idx, fn)"
   ]
  },
  {
   "cell_type": "markdown",
   "metadata": {},
   "source": [
    "## Few more tests"
   ]
  },
  {
   "cell_type": "code",
   "execution_count": 56,
   "metadata": {},
   "outputs": [
    {
     "name": "stdout",
     "output_type": "stream",
     "text": [
      "Searching for annotate \n",
      " ********************\n",
      "<function annotate at 0x7f8fdce39200> \n",
      "\n",
      "\n",
      "Searching for camel \n",
      " ********************\n",
      "<function camel_case_split at 0x7f901c0fd4d0> \n",
      "\n",
      "\n",
      "Searching for class \n",
      " ********************\n",
      "<function annotate at 0x7f8fdce39200> \n",
      "\n",
      "\n",
      "Searching for rglob \n",
      " ********************\n",
      "<function find_modules at 0x7f8fdce39440> \n",
      "\n",
      "\n"
     ]
    }
   ],
   "source": [
    "for q in ['annotate', 'camel', 'class', 'rglob']:\n",
    "    funcs = py_utils.find_functions(discover_mod)\n",
    "    print(\"Searching for\", q, \"\\n\", \"*\" * 20)\n",
    "    q_vec = vectorizer.transform([q])\n",
    "    cs = cosine_similarity(q_vec, matrix)\n",
    "    fn_id = cs.ravel().argmax()\n",
    "    print(list(funcs)[fn_id], \"\\n\\n\")\n"
   ]
  },
  {
   "cell_type": "code",
   "execution_count": null,
   "metadata": {},
   "outputs": [],
   "source": []
  }
 ],
 "metadata": {
  "kernelspec": {
   "display_name": "Python 3",
   "language": "python",
   "name": "python3"
  },
  "language_info": {
   "codemirror_mode": {
    "name": "ipython",
    "version": 3
   },
   "file_extension": ".py",
   "mimetype": "text/x-python",
   "name": "python",
   "nbconvert_exporter": "python",
   "pygments_lexer": "ipython3",
   "version": "3.7.4"
  }
 },
 "nbformat": 4,
 "nbformat_minor": 2
}
