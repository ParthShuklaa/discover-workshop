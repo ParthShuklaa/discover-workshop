{
 "cells": [
  {
   "cell_type": "code",
   "execution_count": 1,
   "metadata": {},
   "outputs": [],
   "source": [
    "from joblib import load\n",
    "from scipy.sparse import load_npz\n",
    "import json"
   ]
  },
  {
   "cell_type": "code",
   "execution_count": 2,
   "metadata": {},
   "outputs": [],
   "source": [
    "mat_path = 'projects_matrix.npz'\n",
    "vect_path = 'projects_vectorizer.pkl'\n",
    "keys_path = 'projects_keys.json'\n",
    "\n",
    "matrix = load_npz(mat_path)\n",
    "vectorizer = load(vect_path)\n",
    "keys = json.load(open(keys_path))"
   ]
  },
  {
   "cell_type": "code",
   "execution_count": 28,
   "metadata": {},
   "outputs": [
    {
     "data": {
      "text/plain": [
       "TfidfVectorizer(analyzer='word', binary=False, decode_error='strict',\n",
       "                dtype=<class 'numpy.float64'>, encoding='utf-8',\n",
       "                input='content', lowercase=True, max_df=1.0, max_features=None,\n",
       "                min_df=1, ngram_range=(1, 1), norm='l2', preprocessor=None,\n",
       "                smooth_idf=True, stop_words=None, strip_accents=None,\n",
       "                sublinear_tf=False, token_pattern='(?u)\\\\b\\\\w\\\\w+\\\\b',\n",
       "                tokenizer=None, use_idf=True, vocabulary=None)"
      ]
     },
     "execution_count": 28,
     "metadata": {},
     "output_type": "execute_result"
    }
   ],
   "source": [
    "vectorizer"
   ]
  },
  {
   "cell_type": "code",
   "execution_count": 45,
   "metadata": {},
   "outputs": [],
   "source": [
    "question = \"cache\""
   ]
  },
  {
   "cell_type": "code",
   "execution_count": 46,
   "metadata": {},
   "outputs": [],
   "source": [
    "ques_vec = vectorizer.transform([question])"
   ]
  },
  {
   "cell_type": "code",
   "execution_count": 47,
   "metadata": {},
   "outputs": [
    {
     "data": {
      "text/plain": [
       "<1x774 sparse matrix of type '<class 'numpy.float64'>'\n",
       "\twith 1 stored elements in Compressed Sparse Row format>"
      ]
     },
     "execution_count": 47,
     "metadata": {},
     "output_type": "execute_result"
    }
   ],
   "source": [
    "ques_vec"
   ]
  },
  {
   "cell_type": "code",
   "execution_count": 48,
   "metadata": {},
   "outputs": [],
   "source": [
    "from sklearn.metrics.pairwise import cosine_similarity"
   ]
  },
  {
   "cell_type": "code",
   "execution_count": 49,
   "metadata": {},
   "outputs": [],
   "source": [
    "cs = cosine_similarity(ques_vec, matrix)"
   ]
  },
  {
   "cell_type": "code",
   "execution_count": 50,
   "metadata": {},
   "outputs": [
    {
     "data": {
      "text/plain": [
       "array([[0.19339319, 0.        , 0.13686204, 0.        , 0.04637657,\n",
       "        0.        , 0.14722432]])"
      ]
     },
     "execution_count": 50,
     "metadata": {},
     "output_type": "execute_result"
    }
   ],
   "source": [
    "cs"
   ]
  },
  {
   "cell_type": "code",
   "execution_count": 51,
   "metadata": {},
   "outputs": [
    {
     "data": {
      "text/plain": [
       "0"
      ]
     },
     "execution_count": 51,
     "metadata": {},
     "output_type": "execute_result"
    }
   ],
   "source": [
    "cs.ravel().argmax()"
   ]
  },
  {
   "cell_type": "code",
   "execution_count": 52,
   "metadata": {},
   "outputs": [
    {
     "data": {
      "text/plain": [
       "'cluster/gramex.yaml'"
      ]
     },
     "execution_count": 52,
     "metadata": {},
     "output_type": "execute_result"
    }
   ],
   "source": [
    "keys[0]"
   ]
  },
  {
   "cell_type": "code",
   "execution_count": 53,
   "metadata": {},
   "outputs": [],
   "source": [
    "import yaml\n",
    "l = []\n",
    "vals = []\n",
    "\n",
    "c = yaml.safe_load(open(keys[0]))\n",
    "for k in ['url', 'schedule', 'import', 'log']:\n",
    "    vals = c.get(k)\n",
    "    l.extend([json.dumps(a) for a in vals.values()])\n"
   ]
  },
  {
   "cell_type": "code",
   "execution_count": 54,
   "metadata": {},
   "outputs": [
    {
     "data": {
      "text/plain": [
       "['{\"pattern\": \"/$YAMLURL/bookmarks\", \"handler\": \"FileHandler\", \"kwargs\": {\"path\": \"$YAMLPATH/index.html\", \"template\": true, \"auth\": {\"login_url\": \"/$YAMLURL/google\"}, \"emails\": \"$EMAILS\"}}',\n",
       " '{\"pattern\": \"/$YAMLURL/\", \"handler\": \"FileHandler\", \"kwargs\": {\"path\": \"$YAMLPATH/landing.html\", \"template\": true}}',\n",
       " '{\"pattern\": \"/$YAMLURL/home\", \"handler\": \"FileHandler\", \"kwargs\": {\"path\": \"$YAMLPATH/index.html\", \"template\": true, \"auth\": {\"login_url\": \"/$YAMLURL/google\"}, \"emails\": \"$EMAILS\"}}',\n",
       " '{\"pattern\": \"/$YAMLURL/charts/(\\\\\\\\w+)/\", \"handler\": \"FileHandler\", \"kwargs\": {\"path\": \"$YAMLPATH/charts/charts.html\", \"template\": true, \"auth\": {\"login_url\": \"/$YAMLURL/google\"}}}',\n",
       " '{\"pattern\": \"/$YAMLURL/charts/([\\\\\\\\w+]/.*\\\\\\\\.png)\", \"handler\": \"FileHandler\", \"kwargs\": {\"path\": \"$YAMLPATH/charts/\", \"headers\": {\"Cache-Control\": \"public, max-age=315360000\"}}, \"cache\": true}',\n",
       " '{\"pattern\": \"/$YAMLURL/([\\\\\\\\w+]/.*\\\\\\\\.png)\", \"handler\": \"FileHandler\", \"kwargs\": {\"path\": \"$YAMLPATH/assets/img/landing/\", \"headers\": {\"Cache-Control\": \"public, max-age=315360000\"}}, \"cache\": true}',\n",
       " '{\"pattern\": \"/$YAMLURL/(node_modules/.*)\", \"handler\": \"FileHandler\", \"kwargs\": {\"path\": \"$YAMLPATH/\", \"headers\": {\"Cache-Control\": \"public, max-age=315360000\"}}, \"cache\": true}',\n",
       " '{\"pattern\": \"/$YAMLURL/bookmark\", \"handler\": \"FormHandler\", \"kwargs\": {\"url\": \"$connection_str\", \"table\": \"entries\", \"id\": \"bookmark_id\", \"auth\": {\"login_url\": \"/$YAMLURL/google\"}}}',\n",
       " '{\"pattern\": \"/$YAMLURL/feedback\", \"handler\": \"FormHandler\", \"kwargs\": {\"url\": \"$feedback_str\", \"table\": \"entries\", \"id\": \"message_id\", \"auth\": {\"login_url\": \"/$YAMLURL/google\"}}}',\n",
       " '{\"pattern\": \"/$YAMLURL/edit\", \"handler\": \"FileHandler\", \"kwargs\": {\"path\": \"$YAMLPATH/edit.html\", \"auth\": {\"login_url\": \"/$YAMLURL/google\", \"membership\": [{\"hd\": [\"gramener.com\"]}]}, \"template\": true}}',\n",
       " '{\"pattern\": \"/$YAMLURL/publish\", \"handler\": \"FunctionHandler\", \"kwargs\": {\"methods\": [\"post\", \"patch\"], \"function\": \"gists.publish\", \"auth\": {\"login_url\": \"/$YAMLURL/google\"}}}',\n",
       " '{\"pattern\": \"/$YAMLURL/saveindb\", \"handler\": \"FunctionHandler\", \"kwargs\": {\"methods\": [\"post\", \"put\"], \"function\": \"gramexcharts.update_disk\", \"auth\": {\"login_url\": \"/$YAMLURL/google\"}}}',\n",
       " '{\"pattern\": \"/$YAMLURL/data_url\", \"handler\": \"FunctionHandler\", \"kwargs\": {\"function\": \"gramexcharts.read_url\", \"auth\": {\"login_url\": \"/$YAMLURL/google\"}}}',\n",
       " '{\"pattern\": \"/$YAMLURL/logout\", \"handler\": \"LogoutHandler\"}',\n",
       " '{\"pattern\": \"/$YAMLURL/internal\", \"handler\": \"FileHandler\", \"kwargs\": {\"path\": \"$YAMLPATH/users.html\", \"auth\": {\"login_url\": \"/$YAMLURL/google\", \"membership\": [{\"hd\": [\"gramener.com\"]}]}, \"template\": true}}',\n",
       " '{\"pattern\": \"/$YAMLURL/feedback_fetch\", \"handler\": \"FormHandler\", \"kwargs\": {\"url\": \"$feedback_str\", \"table\": \"entries\", \"auth\": {\"login_url\": \"/$YAMLURL/google\"}}}',\n",
       " '{\"pattern\": \"/$YAMLURL/docs/(.*)/\", \"handler\": \"FileHandler\", \"kwargs\": {\"path\": \"$YAMLPATH/docs/*/index.html\", \"template\": true}}',\n",
       " '{\"pattern\": \"/$YAMLURL/docs/\", \"handler\": \"FileHandler\", \"kwargs\": {\"path\": \"$YAMLPATH/docs/index.html\", \"template\": true}}',\n",
       " '{\"function\": \"gramexcharts.fetch_charts\", \"kwargs\": {\"url\": \"$GSHEETS$SHEETSKEY$PARAMS\"}, \"minutes\": 0, \"utc\": true, \"thread\": true}',\n",
       " '{\"function\": \"gramexcharts.fetch_chart_features\", \"kwargs\": {\"url\": \"$GSHEETS$SHEETSKEY$PARAMS_FEATURES\"}, \"minutes\": 0, \"utc\": true, \"thread\": true}',\n",
       " '{\"function\": \"gramexcharts.fetch_chart_urls\", \"kwargs\": {\"url\": \"$GSHEETS$SHEETSKEY$PARAMS_URLS\"}, \"minutes\": 0, \"utc\": true, \"thread\": true}',\n",
       " '{\"path\": \"$GRAMEXAPPS/ui/gramex.yaml\", \"YAMLURL\": \"$YAMLURL/ui/\"}',\n",
       " '\"$GRAMEXPATH/deploy.yaml\"',\n",
       " '{\"path\": \"$GRAMEXAPPS/admin2/gramex.yaml\", \"YAMLURL\": \"/$YAMLURL/admin/\", \"ADMIN_KWARGS\": {\"logo\": \"/$YAMLURL/static/gramener-g.png\", \"home\": \"/$YAMLURL/\", \"title\": \"Admin Page\", \"components\": [\"schedule\", \"shell\"], \"theme\": \"?primary=%231B174F&secondary=%23cecce2&success=%2328a745&info=%2317a2b8&warning=%23ffc107&\\\\ndanger=%23dc3545&light=%23f8f9fa&dark=%23675b9e&color1=%233E3484&color2=%23F1F0FC&c\\\\nolor3=%23dddddd&color4=%23FF565A&body-bg=%23ffffff&body-color=%23212529&body-bg=white&\\\\nnavbar-dark-color=rgba(255%2C255%2C255%2C.8)&navbar-dark-hover-color=white&\\\\nfont-family-base=open-sans&font-size-base=1rem&h1-font-size=2.25rem\"}, \"ADMIN_AUTH\": {\"login_url\": \"/$YAMLURL/google\", \"membership\": {\"hd\": [\"gramener.com\"]}}}',\n",
       " '{\"path\": \"$GRAMEXAPPS/logviewer/gramex.yaml\", \"YAMLURL\": \"$YAMLURL/log/\", \"LOGVIEWER_LAYOUT_KWARGS\": {\"auth\": {\"login_url\": \"/$YAMLURL/google\", \"membership\": {\"hd\": [\"gramener.com\"]}}}, \"LOGVIEWER_FORMHANDLER_KWARGS\": {\"url\": \"sqlite:///$GRAMEXDATA/logs/gramexcharts/logviewer.db\"}}',\n",
       " '{\"logfile\": {\"filename\": \"$GRAMEXDATA/logs/gramexcharts/gramex.log\"}, \"requests\": {\"filename\": \"$GRAMEXDATA/logs/gramexcharts/requests.csv\", \"keys\": [\"time\", \"ip\", \"user.id\", \"status\", \"duration\", \"uri\", \"headers.User-Agent\"]}}']"
      ]
     },
     "execution_count": 54,
     "metadata": {},
     "output_type": "execute_result"
    }
   ],
   "source": [
    "l"
   ]
  },
  {
   "cell_type": "code",
   "execution_count": 42,
   "metadata": {},
   "outputs": [
    {
     "data": {
      "text/plain": [
       "array([6, 5, 4])"
      ]
     },
     "execution_count": 42,
     "metadata": {},
     "output_type": "execute_result"
    }
   ],
   "source": [
    "cs.ravel().argsort()[::-1][:3]"
   ]
  },
  {
   "cell_type": "code",
   "execution_count": 18,
   "metadata": {},
   "outputs": [],
   "source": [
    "mat, vect = tfidf_stuff(l)"
   ]
  },
  {
   "cell_type": "code",
   "execution_count": 28,
   "metadata": {},
   "outputs": [],
   "source": [
    "q = \"public\"\n",
    "q_vec = vect.transform([q])"
   ]
  },
  {
   "cell_type": "code",
   "execution_count": 31,
   "metadata": {},
   "outputs": [
    {
     "data": {
      "text/plain": [
       "array([ 0, 24, 23, 22, 21, 20, 19, 18, 17, 16, 15, 14, 25, 13, 11, 10,  9,\n",
       "        8,  7,  3,  2,  1, 12, 26,  4,  5,  6])"
      ]
     },
     "execution_count": 31,
     "metadata": {},
     "output_type": "execute_result"
    }
   ],
   "source": [
    "cs = cosine_similarity(q_vec, mat)\n",
    "cs.ravel().argsort()"
   ]
  },
  {
   "cell_type": "code",
   "execution_count": 30,
   "metadata": {},
   "outputs": [
    {
     "name": "stdout",
     "output_type": "stream",
     "text": [
      "[[0.         0.         0.         0.         0.23761367 0.24148021\n",
      "  0.27299451 0.         0.         0.         0.         0.\n",
      "  0.         0.         0.         0.         0.         0.\n",
      "  0.         0.         0.         0.         0.         0.\n",
      "  0.         0.         0.        ]]\n",
      "{\"pattern\": \"/$YAMLURL/(node_modules/.*)\", \"handler\": \"FileHandler\", \"kwargs\": {\"path\": \"$YAMLPATH/\", \"headers\": {\"Cache-Control\": \"public, max-age=315360000\"}}, \"cache\": true}\n"
     ]
    }
   ],
   "source": [
    "print(cs)\n",
    "print(l[6])"
   ]
  },
  {
   "cell_type": "code",
   "execution_count": 17,
   "metadata": {},
   "outputs": [],
   "source": [
    "from sklearn.feature_extraction.text import TfidfVectorizer\n",
    "\n",
    "def tfidf_stuff(keys):\n",
    "    vectorizer = TfidfVectorizer()\n",
    "    matrix = vectorizer.fit_transform(keys)\n",
    "    return matrix, vectorizer"
   ]
  },
  {
   "cell_type": "code",
   "execution_count": 82,
   "metadata": {},
   "outputs": [],
   "source": [
    "import yaml, json\n",
    "content = yaml.safe_load(open(keys[6]))\n",
    "\n",
    "matrix_keys, vect_keys = tfidf_stuff(content.keys())\n",
    "matrix_values, vect_values = tfidf_stuff(map(json.dumps, content.values()))\n"
   ]
  },
  {
   "cell_type": "code",
   "execution_count": 93,
   "metadata": {},
   "outputs": [],
   "source": [
    "q = \"formhandler\""
   ]
  },
  {
   "cell_type": "code",
   "execution_count": 94,
   "metadata": {},
   "outputs": [],
   "source": [
    "q_vec_key = vect_keys.transform([q])\n",
    "\n",
    "q_vec_values = vect_values.transform([q])"
   ]
  },
  {
   "cell_type": "code",
   "execution_count": 95,
   "metadata": {},
   "outputs": [],
   "source": [
    "cs_key = cosine_similarity(q_vec_key, matrix_keys)\n",
    "\n",
    "cs_values = cosine_similarity(q_vec_values, matrix_values)"
   ]
  },
  {
   "cell_type": "code",
   "execution_count": 96,
   "metadata": {},
   "outputs": [
    {
     "name": "stdout",
     "output_type": "stream",
     "text": [
      "[[0. 0. 0. 0. 0. 0.]]\n"
     ]
    }
   ],
   "source": [
    "print(cs_key)"
   ]
  },
  {
   "cell_type": "code",
   "execution_count": 97,
   "metadata": {},
   "outputs": [
    {
     "name": "stdout",
     "output_type": "stream",
     "text": [
      "[[0.         0.         0.06594657 0.         0.         0.        ]]\n"
     ]
    }
   ],
   "source": [
    "print(cs_values)"
   ]
  },
  {
   "cell_type": "code",
   "execution_count": null,
   "metadata": {},
   "outputs": [],
   "source": []
  }
 ],
 "metadata": {
  "kernelspec": {
   "display_name": "Python 3",
   "language": "python",
   "name": "python3"
  },
  "language_info": {
   "codemirror_mode": {
    "name": "ipython",
    "version": 3
   },
   "file_extension": ".py",
   "mimetype": "text/x-python",
   "name": "python",
   "nbconvert_exporter": "python",
   "pygments_lexer": "ipython3",
   "version": "3.7.4"
  }
 },
 "nbformat": 4,
 "nbformat_minor": 2
}
